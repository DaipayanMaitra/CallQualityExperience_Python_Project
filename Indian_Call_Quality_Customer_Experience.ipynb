{
 "cells": [
  {
   "cell_type": "markdown",
   "id": "e2d73bcc",
   "metadata": {},
   "source": [
    "# Analysis of Indian Voice Call Quality Customer Experience\n"
   ]
  },
  {
   "cell_type": "markdown",
   "id": "794d90c1",
   "metadata": {},
   "source": [
    "## Importing Libraries"
   ]
  },
  {
   "cell_type": "code",
   "execution_count": 1,
   "id": "ef15a14c",
   "metadata": {},
   "outputs": [],
   "source": [
    "import pandas as pd\n",
    "import numpy as np\n",
    "import matplotlib.pyplot as plt\n",
    "import seaborn as sns\n",
    "import scipy.stats as stats"
   ]
  },
  {
   "cell_type": "markdown",
   "id": "0d93fa11",
   "metadata": {},
   "source": [
    "## Loading the Dataset"
   ]
  },
  {
   "cell_type": "code",
   "execution_count": 2,
   "id": "beecca13",
   "metadata": {},
   "outputs": [],
   "source": [
    "# The dataset is loaded from CSV files\n",
    "\n",
    "# Loading CSV files into a Pandas DataFrame\n",
    "january_df = pd.read_csv('January_MyCall_2023.csv')\n",
    "february_df = pd.read_csv('February_MyCall_2023.csv')\n",
    "march_df = pd.read_csv('March_MyCall_2023.csv')\n",
    "april_df = pd.read_csv('April_MyCall_2023.csv')\n",
    "may_df = pd.read_csv('May_MyCall_2023.csv')\n",
    "june_df = pd.read_csv('June_MyCall_2023.csv')\n",
    "july_df = pd.read_csv('July_MyCall_2023.csv')\n",
    "august_df = pd.read_csv('August_MyCall_2023.csv')\n",
    "september_df = pd.read_csv('September_MyCall_2023.csv')\n",
    "october_df = pd.read_csv('October_MyCall_2023.csv')"
   ]
  },
  {
   "cell_type": "code",
   "execution_count": 3,
   "id": "e7d47109",
   "metadata": {},
   "outputs": [],
   "source": [
    "# Combining all monthly DataFrames into one\n",
    "combined_df = pd.concat([january_df, february_df, march_df, april_df, may_df, june_df, july_df, august_df, september_df, october_df])"
   ]
  },
  {
   "cell_type": "markdown",
   "id": "a609b364",
   "metadata": {},
   "source": [
    "## Exploratory Data Analysis and Data Cleaning"
   ]
  },
  {
   "cell_type": "code",
   "execution_count": 4,
   "id": "59295d6b",
   "metadata": {},
   "outputs": [
    {
     "data": {
      "text/html": [
       "<div>\n",
       "<style scoped>\n",
       "    .dataframe tbody tr th:only-of-type {\n",
       "        vertical-align: middle;\n",
       "    }\n",
       "\n",
       "    .dataframe tbody tr th {\n",
       "        vertical-align: top;\n",
       "    }\n",
       "\n",
       "    .dataframe thead th {\n",
       "        text-align: right;\n",
       "    }\n",
       "</style>\n",
       "<table border=\"1\" class=\"dataframe\">\n",
       "  <thead>\n",
       "    <tr style=\"text-align: right;\">\n",
       "      <th></th>\n",
       "      <th>operator</th>\n",
       "      <th>inout_travelling</th>\n",
       "      <th>network_type</th>\n",
       "      <th>rating</th>\n",
       "      <th>calldrop_category</th>\n",
       "      <th>latitude</th>\n",
       "      <th>longitude</th>\n",
       "      <th>state_name</th>\n",
       "    </tr>\n",
       "  </thead>\n",
       "  <tbody>\n",
       "    <tr>\n",
       "      <th>0</th>\n",
       "      <td>RJio</td>\n",
       "      <td>Travelling</td>\n",
       "      <td>4G</td>\n",
       "      <td>3</td>\n",
       "      <td>Satisfactory</td>\n",
       "      <td>-1.00000</td>\n",
       "      <td>-1.000000</td>\n",
       "      <td>NaN</td>\n",
       "    </tr>\n",
       "    <tr>\n",
       "      <th>1</th>\n",
       "      <td>RJio</td>\n",
       "      <td>Travelling</td>\n",
       "      <td>4G</td>\n",
       "      <td>3</td>\n",
       "      <td>Satisfactory</td>\n",
       "      <td>-1.00000</td>\n",
       "      <td>-1.000000</td>\n",
       "      <td>NaN</td>\n",
       "    </tr>\n",
       "    <tr>\n",
       "      <th>2</th>\n",
       "      <td>RJio</td>\n",
       "      <td>Travelling</td>\n",
       "      <td>4G</td>\n",
       "      <td>3</td>\n",
       "      <td>Satisfactory</td>\n",
       "      <td>-1.00000</td>\n",
       "      <td>-1.000000</td>\n",
       "      <td>NaN</td>\n",
       "    </tr>\n",
       "    <tr>\n",
       "      <th>3</th>\n",
       "      <td>RJio</td>\n",
       "      <td>Travelling</td>\n",
       "      <td>4G</td>\n",
       "      <td>3</td>\n",
       "      <td>Satisfactory</td>\n",
       "      <td>-1.00000</td>\n",
       "      <td>-1.000000</td>\n",
       "      <td>NaN</td>\n",
       "    </tr>\n",
       "    <tr>\n",
       "      <th>4</th>\n",
       "      <td>Airtel</td>\n",
       "      <td>Outdoor</td>\n",
       "      <td>4G</td>\n",
       "      <td>1</td>\n",
       "      <td>Poor Voice Quality</td>\n",
       "      <td>10.81888</td>\n",
       "      <td>77.206713</td>\n",
       "      <td>Tamil Nadu</td>\n",
       "    </tr>\n",
       "  </tbody>\n",
       "</table>\n",
       "</div>"
      ],
      "text/plain": [
       "  operator inout_travelling network_type  rating   calldrop_category  \\\n",
       "0     RJio       Travelling           4G       3        Satisfactory   \n",
       "1     RJio       Travelling           4G       3        Satisfactory   \n",
       "2     RJio       Travelling           4G       3        Satisfactory   \n",
       "3     RJio       Travelling           4G       3        Satisfactory   \n",
       "4   Airtel          Outdoor           4G       1  Poor Voice Quality   \n",
       "\n",
       "   latitude  longitude  state_name  \n",
       "0  -1.00000  -1.000000         NaN  \n",
       "1  -1.00000  -1.000000         NaN  \n",
       "2  -1.00000  -1.000000         NaN  \n",
       "3  -1.00000  -1.000000         NaN  \n",
       "4  10.81888  77.206713  Tamil Nadu  "
      ]
     },
     "execution_count": 4,
     "metadata": {},
     "output_type": "execute_result"
    }
   ],
   "source": [
    "combined_df.head()"
   ]
  },
  {
   "cell_type": "code",
   "execution_count": 5,
   "id": "5069897b",
   "metadata": {},
   "outputs": [
    {
     "data": {
      "text/html": [
       "<div>\n",
       "<style scoped>\n",
       "    .dataframe tbody tr th:only-of-type {\n",
       "        vertical-align: middle;\n",
       "    }\n",
       "\n",
       "    .dataframe tbody tr th {\n",
       "        vertical-align: top;\n",
       "    }\n",
       "\n",
       "    .dataframe thead th {\n",
       "        text-align: right;\n",
       "    }\n",
       "</style>\n",
       "<table border=\"1\" class=\"dataframe\">\n",
       "  <thead>\n",
       "    <tr style=\"text-align: right;\">\n",
       "      <th></th>\n",
       "      <th>operator</th>\n",
       "      <th>inout_travelling</th>\n",
       "      <th>network_type</th>\n",
       "      <th>rating</th>\n",
       "      <th>calldrop_category</th>\n",
       "      <th>latitude</th>\n",
       "      <th>longitude</th>\n",
       "      <th>state_name</th>\n",
       "    </tr>\n",
       "  </thead>\n",
       "  <tbody>\n",
       "    <tr>\n",
       "      <th>162</th>\n",
       "      <td>Airtel</td>\n",
       "      <td>Indoor</td>\n",
       "      <td>4G</td>\n",
       "      <td>4</td>\n",
       "      <td>Satisfactory</td>\n",
       "      <td>13.199518</td>\n",
       "      <td>77.708385</td>\n",
       "      <td>Karnataka</td>\n",
       "    </tr>\n",
       "    <tr>\n",
       "      <th>163</th>\n",
       "      <td>RJio</td>\n",
       "      <td>Indoor</td>\n",
       "      <td>4G</td>\n",
       "      <td>5</td>\n",
       "      <td>Satisfactory</td>\n",
       "      <td>12.956590</td>\n",
       "      <td>77.489652</td>\n",
       "      <td>Karnataka</td>\n",
       "    </tr>\n",
       "    <tr>\n",
       "      <th>164</th>\n",
       "      <td>BSNL</td>\n",
       "      <td>Indoor</td>\n",
       "      <td>Unknown</td>\n",
       "      <td>5</td>\n",
       "      <td>Satisfactory</td>\n",
       "      <td>-1.000000</td>\n",
       "      <td>-1.000000</td>\n",
       "      <td>NaN</td>\n",
       "    </tr>\n",
       "    <tr>\n",
       "      <th>165</th>\n",
       "      <td>Airtel</td>\n",
       "      <td>Indoor</td>\n",
       "      <td>4G</td>\n",
       "      <td>1</td>\n",
       "      <td>Poor Voice Quality</td>\n",
       "      <td>28.579051</td>\n",
       "      <td>77.528410</td>\n",
       "      <td>Uttar Pradesh</td>\n",
       "    </tr>\n",
       "    <tr>\n",
       "      <th>166</th>\n",
       "      <td>Airtel</td>\n",
       "      <td>Outdoor</td>\n",
       "      <td>4G</td>\n",
       "      <td>4</td>\n",
       "      <td>Satisfactory</td>\n",
       "      <td>-1.000000</td>\n",
       "      <td>-1.000000</td>\n",
       "      <td>NaN</td>\n",
       "    </tr>\n",
       "  </tbody>\n",
       "</table>\n",
       "</div>"
      ],
      "text/plain": [
       "    operator inout_travelling network_type  rating   calldrop_category  \\\n",
       "162   Airtel           Indoor           4G       4        Satisfactory   \n",
       "163     RJio           Indoor           4G       5        Satisfactory   \n",
       "164     BSNL           Indoor      Unknown       5        Satisfactory   \n",
       "165   Airtel           Indoor           4G       1  Poor Voice Quality   \n",
       "166   Airtel          Outdoor           4G       4        Satisfactory   \n",
       "\n",
       "      latitude  longitude     state_name  \n",
       "162  13.199518  77.708385      Karnataka  \n",
       "163  12.956590  77.489652      Karnataka  \n",
       "164  -1.000000  -1.000000            NaN  \n",
       "165  28.579051  77.528410  Uttar Pradesh  \n",
       "166  -1.000000  -1.000000            NaN  "
      ]
     },
     "execution_count": 5,
     "metadata": {},
     "output_type": "execute_result"
    }
   ],
   "source": [
    "combined_df.tail()"
   ]
  },
  {
   "cell_type": "code",
   "execution_count": 6,
   "id": "e0ac6883",
   "metadata": {},
   "outputs": [
    {
     "name": "stdout",
     "output_type": "stream",
     "text": [
      "<class 'pandas.core.frame.DataFrame'>\n",
      "Index: 5098 entries, 0 to 166\n",
      "Data columns (total 8 columns):\n",
      " #   Column             Non-Null Count  Dtype  \n",
      "---  ------             --------------  -----  \n",
      " 0   operator           5098 non-null   object \n",
      " 1   inout_travelling   5098 non-null   object \n",
      " 2   network_type       5098 non-null   object \n",
      " 3   rating             5098 non-null   int64  \n",
      " 4   calldrop_category  5098 non-null   object \n",
      " 5   latitude           5098 non-null   float64\n",
      " 6   longitude          5098 non-null   float64\n",
      " 7   state_name         3458 non-null   object \n",
      "dtypes: float64(2), int64(1), object(5)\n",
      "memory usage: 358.5+ KB\n",
      "None\n"
     ]
    }
   ],
   "source": [
    "# Checking the structure of the dataset to ensure proper dataset\n",
    "print(combined_df.info())"
   ]
  },
  {
   "cell_type": "code",
   "execution_count": 7,
   "id": "c5f448ab",
   "metadata": {},
   "outputs": [
    {
     "name": "stdout",
     "output_type": "stream",
     "text": [
      "            rating     latitude    longitude\n",
      "count  5098.000000  5098.000000  5098.000000\n",
      "mean      3.276971    13.664618    51.854102\n",
      "std       1.545016    11.620941    36.508925\n",
      "min       1.000000    -1.000000    -1.100000\n",
      "25%       2.000000    -1.000000    -1.000000\n",
      "50%       3.000000    13.072591    74.616763\n",
      "75%       5.000000    22.655439    78.179927\n",
      "max       5.000000    34.204490    88.821348\n"
     ]
    }
   ],
   "source": [
    "# Summar\n",
    "print(combined_df.describe())\n"
   ]
  },
  {
   "cell_type": "markdown",
   "id": "626b01b3",
   "metadata": {},
   "source": [
    "## Data Analysis"
   ]
  },
  {
   "cell_type": "markdown",
   "id": "9a917114",
   "metadata": {},
   "source": [
    "#### 1. Which operator is best rated in each state overall?"
   ]
  },
  {
   "cell_type": "code",
   "execution_count": 8,
   "id": "e83f0341",
   "metadata": {},
   "outputs": [
    {
     "name": "stdout",
     "output_type": "stream",
     "text": [
      "Best Rated Operator by State Overall:\n",
      "        state_name operator    rating\n",
      "2   Andhra Pradesh       VI  5.000000\n",
      "4            Bihar     RJio  2.181818\n",
      "6       Chandigarh     RJio  1.000000\n",
      "8     Chhattisgarh     RJio  5.000000\n",
      "9            Delhi   Airtel  5.000000\n",
      "10             Goa       VI  5.000000\n",
      "13         Gujarat       VI  3.640000\n",
      "15         Haryana       VI  2.000000\n",
      "16       Jharkhand   Airtel  4.783784\n",
      "19       Karnataka     RJio  4.794702\n",
      "21         Kashmir       VI  5.000000\n",
      "23          Kerala     RJio  5.000000\n",
      "25  Madhya Pradesh   Airtel  4.000000\n",
      "30     Maharashtra       VI  3.838806\n",
      "31             NCT   Airtel  5.000000\n",
      "34          Odisha     RJio  5.000000\n",
      "36          Punjab       VI  5.000000\n",
      "38       Rajasthan     RJio  3.793651\n",
      "41      Tamil Nadu     BSNL  5.000000\n",
      "43       Telangana   Airtel  5.000000\n",
      "46      Unnamed: 7       VI  3.000000\n",
      "48   Uttar Pradesh     BSNL  5.000000\n",
      "52     Uttarakhand     RJio  2.853731\n",
      "55     West Bengal     RJio  4.090909\n"
     ]
    }
   ],
   "source": [
    "# Calculating overall ratings by state and operator\n",
    "overall_ratings = combined_df.groupby(['state_name', 'operator'])['rating'].mean().reset_index()\n",
    "\n",
    "# Finding the best rated operator in each state overall\n",
    "best_operator_overall = overall_ratings.loc[overall_ratings.groupby('state_name')['rating'].idxmax()]\n",
    "\n",
    "# Results\n",
    "print(\"Best Rated Operator by State Overall:\")\n",
    "print(best_operator_overall)\n"
   ]
  },
  {
   "cell_type": "markdown",
   "id": "4baf13c4",
   "metadata": {},
   "source": [
    "### 2. Which operator is best rated in each state in terms of indoor, outdoor and travelling environment?"
   ]
  },
  {
   "cell_type": "code",
   "execution_count": 9,
   "id": "36a4ce1b",
   "metadata": {},
   "outputs": [
    {
     "name": "stdout",
     "output_type": "stream",
     "text": [
      "Best rated operator by state and inout_travelling (Indoor/Outdoor/Travelling):\n",
      "         state_name operator inout_travelling    rating\n",
      "1    Andhra Pradesh   Airtel          Outdoor  1.000000\n",
      "3    Andhra Pradesh     RJio           Indoor  2.000000\n",
      "4    Andhra Pradesh       VI       Travelling  5.000000\n",
      "8             Bihar     RJio           Indoor  2.500000\n",
      "10            Bihar     RJio       Travelling  2.571429\n",
      "..              ...      ...              ...       ...\n",
      "107     Uttarakhand     RJio          Outdoor  2.673077\n",
      "108     Uttarakhand     RJio       Travelling  3.000000\n",
      "111     West Bengal     BSNL          Outdoor  3.600000\n",
      "113     West Bengal     RJio           Indoor  4.500000\n",
      "115     West Bengal     RJio       Travelling  5.000000\n",
      "\n",
      "[67 rows x 4 columns]\n"
     ]
    }
   ],
   "source": [
    "# Calculating ratings by state, operator, and inout_travelling\n",
    "ratings_by_inout = combined_df.groupby(['state_name', 'operator', 'inout_travelling'])['rating'].mean().reset_index()\n",
    "\n",
    "# Finding the index of the maximum rating for each state and inout_travelling category\n",
    "idx_inout = ratings_by_inout.groupby(['state_name', 'inout_travelling'])['rating'].transform(max) == ratings_by_inout['rating']\n",
    "\n",
    "# Selecting rows where the index is maximum (i.e., best rated operator in each state and inout_travelling category)\n",
    "best_operator_by_inout = ratings_by_inout[idx_inout]\n",
    "\n",
    "# Results\n",
    "print(\"Best rated operator by state and inout_travelling (Indoor/Outdoor/Travelling):\")\n",
    "print(best_operator_by_inout)"
   ]
  },
  {
   "cell_type": "markdown",
   "id": "00fec367",
   "metadata": {},
   "source": [
    "### 3. Is there any correlation between network type and rating?"
   ]
  },
  {
   "cell_type": "code",
   "execution_count": 10,
   "id": "33787983",
   "metadata": {},
   "outputs": [
    {
     "name": "stdout",
     "output_type": "stream",
     "text": [
      "The correlation coefficient between network type and rating is: 0.07644955031450838\n"
     ]
    }
   ],
   "source": [
    "# Since network_type column has categorical values, we create a mapping for network_type to convert categorical values to numerical\n",
    "network_type_mapping = {\n",
    "    'unknown': 0,  # Assign 0 for unknown network type\n",
    "    '2G': 1,       # Assign 1 for 2G network type\n",
    "    '3G': 2,       # Assign 2 for 3G network type\n",
    "    '4G': 3        # Assign 3 for 4G network type\n",
    "}\n",
    "\n",
    "# Applying the mapping to create a new numerical column 'network_type_numeric'\n",
    "combined_df['network_type_numeric'] = combined_df['network_type'].map(network_type_mapping)\n",
    "\n",
    "# Calculating the correlation between network_type_numeric and rating\n",
    "correlation = combined_df['network_type_numeric'].corr(combined_df['rating'])\n",
    "\n",
    "# Results\n",
    "print(f\"The correlation coefficient between network type and rating is: {correlation}\")\n"
   ]
  },
  {
   "cell_type": "markdown",
   "id": "69646e12",
   "metadata": {},
   "source": [
    "### 4. Is call drop correlated with the rating?"
   ]
  },
  {
   "cell_type": "code",
   "execution_count": 11,
   "id": "f8e2698a",
   "metadata": {},
   "outputs": [
    {
     "name": "stdout",
     "output_type": "stream",
     "text": [
      "Correlation between call_dropped and rating: -0.360831774434962\n",
      "Pearson correlation coefficient: -0.3608317744349627\n",
      "P-value: 1.3540024999831756e-156\n",
      "Reject the null hypothesis. There is a significant correlation between call drops and rating.\n"
     ]
    }
   ],
   "source": [
    "# Converting 'calldrop_category' to a binary column to get the number of call drops in our data\n",
    "combined_df['call_dropped'] = combined_df['calldrop_category'].apply(lambda x: 1 if x.strip() == 'Call Dropped' else 0)\n",
    "\n",
    "# Calculating the correlation coefficient\n",
    "correlation = combined_df['call_dropped'].corr(combined_df['rating'])\n",
    "\n",
    "# Correlation coefficient\n",
    "print(\"Correlation between call_dropped and rating:\", correlation)\n",
    "\n",
    "# Pearson correlation test\n",
    "correlation, p_value = stats.pearsonr(combined_df['call_dropped'], combined_df['rating'])\n",
    "\n",
    "# Results\n",
    "print(\"Pearson correlation coefficient:\", correlation)\n",
    "print(\"P-value:\", p_value)\n",
    "\n",
    "# Interpreting the p-value\n",
    "alpha = 0.05  # this is the 5% level of significance\n",
    "if p_value < alpha:\n",
    "    print(\"Reject the null hypothesis. There is a significant correlation between call drops and rating.\")\n",
    "else:\n",
    "    print(\"Fail to reject the null hypothesis. There is no significant correlation between call drops and rating.\")\n"
   ]
  },
  {
   "cell_type": "markdown",
   "id": "ae8e370f",
   "metadata": {},
   "source": [
    "### 5. Where do we see more call drops - outside or inside?"
   ]
  },
  {
   "cell_type": "code",
   "execution_count": 12,
   "id": "5d05bbb1",
   "metadata": {},
   "outputs": [
    {
     "name": "stdout",
     "output_type": "stream",
     "text": [
      "Call drop counts for each environment (inout_travelling):\n",
      "inout_travelling\n",
      "Indoor        201\n",
      "Outdoor       127\n",
      "Travelling     24\n",
      "Name: count, dtype: int64\n"
     ]
    }
   ],
   "source": [
    "\n",
    "# Getting rows where calldrop_category is 'Call Dropped'\n",
    "call_dropped_df = combined_df[combined_df['calldrop_category'] == 'Call Dropped']\n",
    "\n",
    "# Counting call drops for each inout_travelling category\n",
    "call_drops_counts = call_dropped_df['inout_travelling'].value_counts()\n",
    "\n",
    "# Results\n",
    "print(\"Call drop counts for each environment (inout_travelling):\")\n",
    "print(call_drops_counts)"
   ]
  },
  {
   "cell_type": "markdown",
   "id": "e226e60a",
   "metadata": {},
   "source": [
    "### 6. Is there any association between the environment (indoor/outdoor) and call drops?"
   ]
  },
  {
   "cell_type": "code",
   "execution_count": 13,
   "id": "2666a861",
   "metadata": {},
   "outputs": [
    {
     "name": "stdout",
     "output_type": "stream",
     "text": [
      "Chi-square statistic: 36.542986258776025\n",
      "P-value: 1.160890768794985e-08\n",
      "Reject the null hypothesis: There is a significant association between the environment (indoor/outdoor) and call drops.\n"
     ]
    }
   ],
   "source": [
    "import scipy.stats as stats\n",
    "\n",
    "# Contingency table for call drops and inout_travelling\n",
    "contingency_table = pd.crosstab(combined_df['inout_travelling'], combined_df['calldrop_category'] == 'Call Dropped')\n",
    "\n",
    "# Chi-square test of independence\n",
    "chi2, p, dof, expected = stats.chi2_contingency(contingency_table)\n",
    "\n",
    "# Results\n",
    "print(f\"Chi-square statistic: {chi2}\")\n",
    "print(f\"P-value: {p}\")\n",
    "\n",
    "# Interpreting the results\n",
    "alpha = 0.05\n",
    "if p < alpha:\n",
    "    print(\"Reject the null hypothesis: There is a significant association between the environment (indoor/outdoor) and call drops.\")\n",
    "else:\n",
    "    print(\"Fail to reject the null hypothesis: There is no significant association between the environment (indoor/outdoor) and call drops.\")\n"
   ]
  },
  {
   "cell_type": "code",
   "execution_count": 14,
   "id": "5586c999",
   "metadata": {},
   "outputs": [
    {
     "name": "stdout",
     "output_type": "stream",
     "text": [
      "The average rating for Delhi state is: 5.0\n"
     ]
    }
   ],
   "source": [
    "# Average rating for Delhi state\n",
    "average_rating_delhi = combined_df[combined_df['state_name'] == 'Delhi']['rating'].mean()\n",
    "\n",
    "\n",
    "print(f\"The average rating for Delhi state is: {average_rating_delhi}\")\n"
   ]
  },
  {
   "cell_type": "code",
   "execution_count": null,
   "id": "ceada90a",
   "metadata": {},
   "outputs": [],
   "source": []
  }
 ],
 "metadata": {
  "kernelspec": {
   "display_name": "Python 3 (ipykernel)",
   "language": "python",
   "name": "python3"
  },
  "language_info": {
   "codemirror_mode": {
    "name": "ipython",
    "version": 3
   },
   "file_extension": ".py",
   "mimetype": "text/x-python",
   "name": "python",
   "nbconvert_exporter": "python",
   "pygments_lexer": "ipython3",
   "version": "3.11.5"
  }
 },
 "nbformat": 4,
 "nbformat_minor": 5
}
